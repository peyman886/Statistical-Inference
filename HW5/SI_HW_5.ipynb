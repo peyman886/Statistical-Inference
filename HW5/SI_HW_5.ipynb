{
  "nbformat": 4,
  "nbformat_minor": 0,
  "metadata": {
    "colab": {
      "provenance": [],
      "collapsed_sections": [
        "hQhPwt8vJceo",
        "4nhV5L1yLWJz",
        "dFebFPltLWMj",
        "c3QC8C2KLWPi",
        "P140fk3wLWSI",
        "mOHJHw8rgHVH",
        "Nq_2_oitgHai",
        "BMm_hGJigHdI"
      ]
    },
    "kernelspec": {
      "name": "ir",
      "display_name": "R"
    },
    "language_info": {
      "name": "R"
    }
  },
  "cells": [
    {
      "cell_type": "markdown",
      "source": [
        "# Question 1"
      ],
      "metadata": {
        "id": "hQhPwt8vJceo"
      }
    },
    {
      "cell_type": "markdown",
      "source": [
        "**a. False**. We already know the sample proportion is $82\\%$.\n",
        "\n",
        "**b. False**. The confidence interval provides an estimate range for the population proportion, not a definitive range for all Americans.\n",
        "\n",
        "**c. True**. This is a correct interpretation of what a $95\\%$ confidence level means.\n",
        "\n",
        "**d. True**. The margin of error for a proportion is $\n",
        "\\text{ME} = Z \\sqrt{\\frac{\\hat{p}(1 - \\hat{p})}{n}}\n",
        "$\n",
        "the margin of error is inversely proportional to the square root of the sample size\n",
        "\n",
        "**e. True**. A majority is more than $50\\%$."
      ],
      "metadata": {
        "id": "UTWNISA6KSs8"
      }
    },
    {
      "cell_type": "markdown",
      "source": [
        "# Question 3"
      ],
      "metadata": {
        "id": "dFebFPltLWMj"
      }
    },
    {
      "cell_type": "markdown",
      "source": [
        "## a.\n",
        "\n",
        "| Treatment     | Virologic Failure | No Virologic Failure | Total |\n",
        "|---------------|-------------------|----------------------|-------|\n",
        "| Nevirapine    | $26$              | $94$                 | $120$ |\n",
        "| Lopinavir     | $10$              | $110$                | $120$ |\n",
        "| **Total**     | $36$              | $204$                | $240$ |\n"
      ],
      "metadata": {
        "id": "DOBvFD99Wwn3"
      }
    },
    {
      "cell_type": "markdown",
      "source": [
        "## b.\n",
        "\n",
        "- **Null Hypothesis (\\( $H_0$ \\))**: The virologic failure rates are the same for both treatment groups.\n",
        "  $$\n",
        "  H_0: p_{\\text{Nevirapine}} = p_{\\text{Lopinavir}}\n",
        "  $$\n",
        "\n",
        "- **Alternative Hypothesis (\\( $H_1$ \\))**: The virologic failure rates are different for the two treatment groups.\n",
        "  $$\n",
        "  H_1: p_{\\text{Nevirapine}} \\neq p_{\\text{Lopinavir}}\n",
        "  $$"
      ],
      "metadata": {
        "id": "zbKSPJlcXB62"
      }
    },
    {
      "cell_type": "markdown",
      "source": [
        "## c.\n",
        "$$\n",
        "\\hat{p}_{\\text{Nevirapine}} = \\frac{26}{120} = 0.2167\n",
        "$$\n",
        "\n",
        "$$\n",
        "\\hat{p}_{\\text{Lopinavir}} = \\frac{10}{120} = 0.0833\n",
        "$$\n",
        "\n",
        "$$\n",
        "p_{pooled} = \\frac{26 + 10}{120 + 120} = \\frac{36}{240} = 0.15\n",
        "$$\n",
        "\n",
        "$$\n",
        "SE = \\sqrt{p_{pooled}(1 - p_{pooled}) \\left(\\frac{1}{n_{\\text{Nevirapine}}} + \\frac{1}{n_{\\text{Lopinavir}}}\\right)} = \\sqrt{0.15 \\times 0.85 \\left(\\frac{1}{120} + \\frac{1}{120}\\right)} = \\sqrt{0.15 \\times 0.85 \\times \\frac{2}{120}} = \\sqrt{0.002125} \\approx 0.0461\n",
        "$$\n",
        "\n",
        "\n",
        "$$\n",
        "z = \\frac{\\hat{p}_{\\text{Nevirapine}} - \\hat{p}_{\\text{Lopinavir}}}{SE} = \\frac{0.2167 - 0.0833}{0.0461} \\approx 2.89\n",
        "$$\n",
        "\n",
        "\n",
        "$$\n",
        "p\\text{-value} \\approx 0.0038\n",
        "$$\n"
      ],
      "metadata": {
        "id": "8iRxh7whciCv"
      }
    },
    {
      "cell_type": "markdown",
      "source": [
        "Since the p-value ($0.0038$) is less than the significance level ($\\alpha = 0.05 $), we reject the null hypothesis. This means there is sufficient evidence to conclude that the virologic failure rates are different for the two treatment groups."
      ],
      "metadata": {
        "id": "s9XA_b5pZTQ4"
      }
    },
    {
      "cell_type": "markdown",
      "source": [
        "# Question 4"
      ],
      "metadata": {
        "id": "c3QC8C2KLWPi"
      }
    },
    {
      "cell_type": "markdown",
      "source": [
        "- **Group 1 (financial help second):**\n",
        "  - Sample size ($ n_1 $) = $771$\n",
        "  - Sample proportion ($ \\hat{p}_1 $) = $0.47$\n",
        "\n",
        "- **Group 2 (penalty second):**\n",
        "  - Sample size $ n_2 $ = $732$\n",
        "  - Sample proportion ($ \\hat{p}_2 $) = $0.34$\n"
      ],
      "metadata": {
        "id": "89kFUhMEaO19"
      }
    },
    {
      "cell_type": "markdown",
      "source": [
        "$\n",
        "SE = \\sqrt{\\frac{0.47 (1 - 0.47)}{771} + \\frac{0.34 (1 - 0.34)}{732}} = \\sqrt{\\frac{0.47 \\times 0.53}{771} + \\frac{0.34 \\times 0.66}{732}} = \\sqrt{\\frac{0.2491}{771} + \\frac{0.2244}{732}} = \\sqrt{0.000323 + 0.000307} = \\sqrt{0.00063} \\approx 0.0251\n",
        "$\n"
      ],
      "metadata": {
        "id": "K12mJsFgan3-"
      }
    },
    {
      "cell_type": "markdown",
      "source": [
        "$\n",
        "ME = 1.645 \\times 0.0251 \\approx 0.0413\n",
        "$"
      ],
      "metadata": {
        "id": "mocOpaIhaqnG"
      }
    },
    {
      "cell_type": "markdown",
      "source": [
        "$\n",
        "(\\hat{p}_1 - \\hat{p}_2) \\pm ME = (0.47 - 0.34) \\pm 0.0413 = 0.13 \\pm 0.0413\n",
        "CI = (0.0887, 0.1713)\n",
        "$\n"
      ],
      "metadata": {
        "id": "mLVW1xTJav-D"
      }
    },
    {
      "cell_type": "markdown",
      "source": [
        "We are 90% confident that the difference in approval rates between the two question phrasings lies between $8.87\\%$ and $17.13\\%$."
      ],
      "metadata": {
        "id": "HLUk6kXtdCNz"
      }
    },
    {
      "cell_type": "markdown",
      "source": [
        "# Question 5"
      ],
      "metadata": {
        "id": "P140fk3wLWSI"
      }
    },
    {
      "cell_type": "markdown",
      "source": [
        "| Option   | Observed Frequency (\\( O_i \\)) |\n",
        "|----------|-------------------------------|\n",
        "| Rock     | $43$                          |\n",
        "| Scissors | $21$                          |\n",
        "| Paper    | $35$                          |\n",
        "\n",
        "\n",
        "- **Null Hypothesis (\\( $H_0$ \\))**: Players choose rock, paper, and scissors with equal probability.\n",
        "  $$\n",
        "  H_0: p_{\\text{Rock}} = p_{\\text{Scissors}} = p_{\\text{Paper}} = \\frac{1}{3}\n",
        "  $$\n",
        "\n",
        "- **Alternative Hypothesis (\\( $H_1$ \\))**: Players do not choose rock, paper, and scissors with equal probability.\n",
        "  $$\n",
        "  H_1: \\text{At least one } p_i \\neq \\frac{1}{3}\n",
        "  $$\n"
      ],
      "metadata": {
        "id": "P-jY0kSwbvGX"
      }
    },
    {
      "cell_type": "markdown",
      "source": [
        "$\n",
        "O_{\\text{Rock}} = 43, \\quad O_{\\text{Scissors}} = 21, \\quad O_{\\text{Paper}} = 35\n",
        "$\n",
        "\n",
        "Total number of games: \\( $43 + 21 + 35 = 99$ \\)\n",
        "$\n",
        "E_i = \\frac{99}{3} = 33 \\quad \\text{for each option}\n",
        "$\n",
        "\n",
        "$df = 2$\n",
        "\n",
        "$$\n",
        "\\chi^2 = \\sum \\frac{(O_i - E_i)^2}{E_i}\n",
        " = \\frac{(43 - 33)^2}{33} + \\frac{(21 - 33)^2}{33} + \\frac{(35 - 33)^2}{33}\n",
        " = \\frac{10^2}{33} + \\frac{(-12)^2}{33} + \\frac{2^2}{33}\n",
        " = \\frac{100}{33} + \\frac{144}{33} + \\frac{4}{33}\n",
        " = 3.03 + 4.36 + 0.12 = 7.51\n",
        "$$\n",
        "\n",
        "$$\n",
        "$$\n",
        "\n",
        "\n"
      ],
      "metadata": {
        "id": "CVsTiN3OgMPH"
      }
    },
    {
      "cell_type": "markdown",
      "source": [
        "- Critical value for \\( $df = 2$ \\) at \\( $\\alpha = 0.05$ \\): \\( $5.99$ \\)\n",
        "- P-value for \\( $\\chi^2 = 7.51$ \\): \\( $0.0234$ \\)\n",
        "\n",
        "\n",
        "Since the chi-square test statistic ($7.51$) is greater than the critical value ($5.99$), we reject the null hypothesis at the $0.05$ significance level. This suggests that players do not choose rock, paper, and scissors with equal probability; certain options are favored above others.\n"
      ],
      "metadata": {
        "id": "pc_Xh7XVc6Ic"
      }
    },
    {
      "cell_type": "markdown",
      "source": [
        "# Question 6"
      ],
      "metadata": {
        "id": "mOHJHw8rgHVH"
      }
    },
    {
      "cell_type": "markdown",
      "source": [
        "| Gender  | Ketchup | Mustard | Relish | Total |\n",
        "|---------|---------|---------|--------|-------|\n",
        "| Male    | $15$      | $23$      | $10$     | $48$    |\n",
        "| Female  | $25$      | $19$      | $8$      | $52$    |\n",
        "| **Total** | $40$    | $42$      | $18$     | $100$   |\n",
        "\n",
        "\n",
        "- **Null Hypothesis (\\( $H_0$ \\))**: There is no relationship between gender and the preferred condiment (they are independent).\n",
        "\n",
        "- **Alternative Hypothesis (\\( $H_1$ \\))**: There is a relationship between gender and the preferred condiment (they are not independent)."
      ],
      "metadata": {
        "id": "ORrDnxipdMOH"
      }
    },
    {
      "cell_type": "markdown",
      "source": [
        "| Gender  | Ketchup (\\( $O_{11}$ \\)) | Mustard (\\( $O_{12}$ \\)) | Relish (\\( $O_{13}$ \\)) | Total |\n",
        "|---------|---------|---------|--------|-------|\n",
        "| Male    | $15$      | $23$      | $10$     | $48$    |\n",
        "| Female  | $25$      | $19$      | $8$      | $52$    |\n",
        "| **Total** | $40$    | $42$      | $18$     | $100$   |"
      ],
      "metadata": {
        "id": "p6ak29IJdTIe"
      }
    },
    {
      "cell_type": "markdown",
      "source": [
        "   $$\n",
        "   E_{11} = \\frac{48 \\times 40}{100} = 19.2\n",
        "   $$\n",
        "   $$\n",
        "   E_{12} = \\frac{48 \\times 42}{100} = 20.16\n",
        "   $$\n",
        "   $$\n",
        "   E_{13} = \\frac{48 \\times 18}{100} = 8.64\n",
        "   $$\n",
        "   $$\n",
        "   E_{21} = \\frac{52 \\times 40}{100} = 20.8\n",
        "   $$\n",
        "   $$\n",
        "   E_{22} = \\frac{52 \\times 42}{100} = 21.84\n",
        "   $$\n",
        "   $$\n",
        "   E_{23} = \\frac{52 \\times 18}{100} = 9.36\n",
        "   $$"
      ],
      "metadata": {
        "id": "DzvU_QXddWRr"
      }
    },
    {
      "cell_type": "markdown",
      "source": [
        "   $$\n",
        "   \\chi^2 = \\sum \\frac{(O_{ij} - E_{ij})^2}{E_{ij}}\n",
        "   $$\n",
        "\n",
        "   $$\n",
        "   =>\n",
        "   \\chi^2 = \\frac{(15 - 19.2)^2}{19.2} + \\frac{(23 - 20.16)^2}{20.16} + \\frac{(10 - 8.64)^2}{8.64} + \\frac{(25 - 20.8)^2}{20.8} + \\frac{(19 - 21.84)^2}{21.84} + \\frac{(8 - 9.36)^2}{9.36}\n",
        "   $$\n",
        "\n",
        "   $$\n",
        "   =>\n",
        "   \\chi^2 = \\frac{(-4.2)^2}{19.2} + \\frac{2.84^2}{20.16} + \\frac{1.36^2}{8.64} + \\frac{4.2^2}{20.8} + \\frac{(-2.84)^2}{21.84} + \\frac{(-1.36)^2}{9.36}\n",
        "   $$\n",
        "\n",
        "   $$\n",
        "   =>\n",
        "   \\chi^2 = \\frac{17.64}{19.2} + \\frac{8.0656}{20.16} + \\frac{1.8496}{8.64} + \\frac{17.64}{20.8} + \\frac{8.0656}{21.84} + \\frac{1.8496}{9.36}\n",
        "   $$\n",
        "   \n",
        "   $$\n",
        "   =>\n",
        "   \\chi^2 = 0.9188 + 0.3998 + 0.2141 + 0.8481 + 0.3693 + 0.1976 = 2.9477\n",
        "   $$\n"
      ],
      "metadata": {
        "id": "hUt5uPjwdaZp"
      }
    },
    {
      "cell_type": "markdown",
      "source": [
        "   $$\n",
        "   df = (r - 1)(c - 1) = (2 - 1)(3 - 1) = 1 \\times 2 = 2\n",
        "   $$\n"
      ],
      "metadata": {
        "id": "5p_HFLMudfE_"
      }
    },
    {
      "cell_type": "markdown",
      "source": [
        "- Critical value for \\( $df = 2$ \\) at \\( $\\alpha = 0.05$ \\) from chi-square table: \\( $5.99$ \\)\n",
        "- P-value for \\( $\\chi^2 = 2.9477$ \\) can be found using a chi-square calculator or table.\n",
        "\n",
        "Since the chi-square test statistic ($2.9477$) is less than the critical value ($5.99$), we fail to reject the null hypothesis at the $0.05$ significance level. This suggests that there is not enough evidence to conclude that there is a relationship between gender and the preferred condiment.\n"
      ],
      "metadata": {
        "id": "Mw-nGt7jhFx1"
      }
    },
    {
      "cell_type": "markdown",
      "source": [
        "# Question 7"
      ],
      "metadata": {
        "id": "Nq_2_oitgHai"
      }
    },
    {
      "cell_type": "code",
      "source": [
        "# Observed frequencies\n",
        "observed <- c(18, 16, 10, 10, 16)\n",
        "\n",
        "# Expected frequencies if absences are equally distributed\n",
        "expected <- rep(sum(observed) / length(observed), length(observed))\n",
        "\n",
        "# Perform chi-square goodness-of-fit test\n",
        "chi_square_test <- chisq.test(x = observed, p = expected / sum(expected))\n",
        "\n",
        "# Print the test results\n",
        "print(chi_square_test)\n"
      ],
      "metadata": {
        "colab": {
          "base_uri": "https://localhost:8080/"
        },
        "id": "gBx8sZV9j2Uq",
        "outputId": "7a9d01e6-79c1-4e54-c2b1-67e0eb5f6c03"
      },
      "execution_count": null,
      "outputs": [
        {
          "output_type": "stream",
          "name": "stdout",
          "text": [
            "\n",
            "\tChi-squared test for given probabilities\n",
            "\n",
            "data:  observed\n",
            "X-squared = 4, df = 4, p-value = 0.406\n",
            "\n"
          ]
        }
      ]
    },
    {
      "cell_type": "markdown",
      "source": [
        "Since the chi-square test statistic ($4$) is less than the critical value ($9.488$), we fail to reject the null hypothesis at the $0.05$ significance level. This suggests that there is not enough evidence to conclude that the days with the highest number of absences do not occur with equal frequencies during the workweek.\n"
      ],
      "metadata": {
        "id": "RqJt76I1jj3t"
      }
    },
    {
      "cell_type": "markdown",
      "source": [
        "# Question 8"
      ],
      "metadata": {
        "id": "BMm_hGJigHdI"
      }
    },
    {
      "cell_type": "code",
      "source": [
        "# Load the required library\n",
        "library(MASS)\n",
        "\n",
        "# Load the survey data\n",
        "data(\"survey\")\n",
        "\n",
        "# Create a contingency table for Smoke and Exer\n",
        "contingency_table <- table(survey$Smoke, survey$Exer)\n",
        "\n",
        "# Perform the chi-square test of independence\n",
        "chi_square_test <- chisq.test(contingency_table)\n",
        "\n",
        "# Print the contingency table\n",
        "print(contingency_table)\n",
        "\n",
        "# Print the test results\n",
        "print(chi_square_test)\n"
      ],
      "metadata": {
        "colab": {
          "base_uri": "https://localhost:8080/"
        },
        "id": "prEaevNakbUg",
        "outputId": "436c4530-2c06-4b31-b347-a2dea22fcabd"
      },
      "execution_count": null,
      "outputs": [
        {
          "output_type": "stream",
          "name": "stderr",
          "text": [
            "Warning message in chisq.test(contingency_table):\n",
            "“Chi-squared approximation may be incorrect”\n"
          ]
        },
        {
          "output_type": "stream",
          "name": "stdout",
          "text": [
            "       \n",
            "        Freq None Some\n",
            "  Heavy    7    1    3\n",
            "  Never   87   18   84\n",
            "  Occas   12    3    4\n",
            "  Regul    9    1    7\n",
            "\n",
            "\tPearson's Chi-squared test\n",
            "\n",
            "data:  contingency_table\n",
            "X-squared = 5.4885, df = 6, p-value = 0.4828\n",
            "\n"
          ]
        }
      ]
    },
    {
      "cell_type": "markdown",
      "source": [
        "\n",
        "Since the p-value ($0.4828$) is greater than the significance level ($\\alpha = 0.05 $), we fail to reject the null hypothesis. This means there is not enough evidence to conclude that there is a significant association between students' smoking habits and their exercise levels. The warning message indicates that some expected frequencies are low, which can affect the validity of the chi-square approximation. However, based on the provided test results, we proceed with the conclusion from the chi-square test.\n"
      ],
      "metadata": {
        "id": "D1WF6YIRlj2I"
      }
    }
  ]
}