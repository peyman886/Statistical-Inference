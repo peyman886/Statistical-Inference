{
  "nbformat": 4,
  "nbformat_minor": 0,
  "metadata": {
    "colab": {
      "provenance": [],
      "collapsed_sections": [
        "hQhPwt8vJceo",
        "4nhV5L1yLWJz",
        "dFebFPltLWMj",
        "c3QC8C2KLWPi",
        "P140fk3wLWSI",
        "4w8QprlX_By-",
        "SQDGa3ek_B3G",
        "gES2roPQ_F07",
        "FP_SUEwZJdQW",
        "BM4ZLY44J9mO",
        "LRMcV7uJKZ91",
        "jGOjTYhYLTfc",
        "8HqclbQfLVx8",
        "w6e9w2yLLw99"
      ]
    },
    "kernelspec": {
      "name": "ir",
      "display_name": "R"
    },
    "language_info": {
      "name": "R"
    }
  },
  "cells": [
    {
      "cell_type": "markdown",
      "source": [
        "# Question 1"
      ],
      "metadata": {
        "id": "hQhPwt8vJceo"
      }
    },
    {
      "cell_type": "markdown",
      "source": [
        "- a) True. We use this method when the sample size is small and we want to have a few samples from the main population, we use sampling with replacement, which is called bootstrap.\n",
        "\n",
        "- b) True. If ANOVA rejects the null hypothesis, it implies that there is at least one pair of groups with significantly different means. Therefore, the statement is true.\n",
        "\n",
        "\n",
        "- c) False. Increasing the sample size of resampled samples can improve the accuracy of estimates derived from bootstrap methods.\n",
        "\n",
        "- d) True. In a paired analysis, we compare the differences between pairs of observations from two related groups or conditions.\n",
        "\n",
        "- e) False. Variance within an ANOVA group is a measure of variability within each group, while noise (variance) refers to random variation in the data.\n",
        "\n",
        "- f) True. Because the two groups of samples are independent from each other.\n",
        "\n",
        "- g) True. In a paired analysis, inferences are typically made based on the differences between paired observations.\n",
        "\n",
        "- h) True. Because the two distributions with the null hypothesis and the alternative hypothesis are more distant from each other, so the level under the graph of the alternative hypothesis becomes larger\n",
        "\n"
      ],
      "metadata": {
        "id": "LwRsB4dSwqGl"
      }
    },
    {
      "cell_type": "markdown",
      "source": [
        "# Question 2"
      ],
      "metadata": {
        "id": "4nhV5L1yLWJz"
      }
    },
    {
      "cell_type": "markdown",
      "source": [
        "a. $\\bar{x} = 80.0$, and $s = 11.71$.\n",
        "\n",
        "b. The t-score corresponding to a 90% confidence interval with $df = 9$ (degrees of freedom) is approximately $t = 1.833$, and the margin of error (MOE) is approximately $MOE = 6.79$.\n",
        "\n",
        "c. The 90% confidence interval for the mean score, is approximately $(73.21, 86.79)$.\n",
        "\n",
        "d. We are 90% confident that the true mean score of all the students in the class lies within the interval $(73.21, 86.79)$. This means that if we were to take many random samples and calculate the confidence intervals for each sample, approximately 90% of these intervals would contain the true population mean score."
      ],
      "metadata": {
        "id": "4L6hJpdT2ZQ-"
      }
    },
    {
      "cell_type": "markdown",
      "source": [
        "# Question 3"
      ],
      "metadata": {
        "id": "dFebFPltLWMj"
      }
    },
    {
      "cell_type": "markdown",
      "source": [
        "a. Hypotheses:\n",
        "- Null Hypothesis (\\( $H_0$ \\)): The average amount of sleep per night for New Yorkers is \\( $\\mu$ = $8$ \\) hours.\n",
        "- Alternative Hypothesis (\\( $H_1$ \\)): The average amount of sleep per night for New Yorkers is less than \\( $8$ \\) hours.\n",
        "\n",
        "b. Conditions and calculations:\n",
        "- Since the sample size is \\( $25$ \\), we can use a t-test for the mean.\n",
        "- The test statistic \\( T \\) is calculated using the formula:\n",
        "\n",
        "$$\n",
        "T = \\frac{\\bar{x} - \\mu} {\\frac{s}{\\sqrt{n}}}\n",
        "$$\n",
        "\n",
        "Where:\n",
        "- \\( $\\bar{x}$ \\) is the sample mean,\n",
        "- \\( $\\mu$ \\) is the population mean under the null hypothesis,\n",
        "- \\( $s$ \\) is the sample standard deviation,\n",
        "- \\( $n$ \\) is the sample size.\n",
        "\n",
        "In this case, \\( T = $-1.753$ \\), and the associated degrees of freedom is \\( $24$ \\).\n",
        "\n",
        "c. P-value:\n",
        "- The p-value associated with the test statistic \\( $T$ = $-1.753$ \\) is approximately \\( $0.0462$ \\).\n",
        "\n",
        "Interpretation: This p-value represents the probability of observing a sample mean as extreme as \\( $\\bar{x}$ = $7.73$ \\) (or more extreme) under the assumption that the true population mean is \\( $8$ \\) hours, given the sample size and standard deviation.\n",
        "\n",
        "d. Conclusion of the hypothesis test:\n",
        "- Since the p-value (\\( $0.0462$ \\)) is less than the significance level (\\( $\\alpha$ = $0.05$ \\)), we reject the null hypothesis.\n",
        "- Therefore, we have sufficient evidence to conclude that the average amount of sleep per night for New Yorkers is statistically significantly less than \\( $8 $\\) hours.\n",
        "\n",
        "e. If we were to construct a 90% confidence interval corresponding to this hypothesis test, we would expect \\( $8$ \\) hours to be in the interval if the null hypothesis is not rejected. However, since we rejected the null hypothesis based on the hypothesis test, indicating that the average amount of sleep per night for New Yorkers is statistically significantly less than \\( $8$ \\) hours, we would not expect \\( $8$ \\) hours to be in the interval.\n"
      ],
      "metadata": {
        "id": "sVFCAZ-A3B60"
      }
    },
    {
      "cell_type": "markdown",
      "source": [
        "# Question 4"
      ],
      "metadata": {
        "id": "c3QC8C2KLWPi"
      }
    },
    {
      "cell_type": "markdown",
      "source": [
        "- Null Hypothesis (\\($ H_0 $ \\)): There is no difference in the mean proficiency test scores between the intensive tutoring and paced tutoring groups (\\($ \\mu_{\\text{intensive}} = \\mu_{\\text{paced}} $ \\)).\n",
        "- Alternative Hypothesis (\\($ H_1 $ \\)): There is a difference in the mean proficiency test scores between the intensive tutoring and paced tutoring groups (\\($ \\mu_{\\text{intensive}} \\neq \\mu_{\\text{paced}} $ \\)).\n",
        "\n",
        "\n",
        "The test statistic \\($ t $ \\) for Welch's t-test is calculated as follows:\n",
        "\n",
        "$$\n",
        "t = \\frac{\\bar{x}_1 - \\bar{x}_2}{\\sqrt{\\frac{s_1^2}{n_1} + \\frac{s_2^2}{n_2}}}\n",
        "$$\n",
        "\n",
        "Where:\n",
        "- \\($ \\bar{x}_1 $ \\) and \\($ \\bar{x}_2 $ \\) are the sample means,\n",
        "- \\($ s_1^2 $ \\) and \\($ s_2^2 $ \\) are the sample variances,\n",
        "- \\($ n_1 $ \\) and \\($ n_2 $ \\) are the sample sizes.\n",
        "\n",
        "The degrees of freedom for the test are approximated using the following formula:\n",
        "\n",
        "$$\n",
        "df = \\frac{\\left(\\frac{s_1^2}{n_1} + \\frac{s_2^2}{n_2}\\right)^2}{\\frac{\\left(\\frac{s_1^2}{n_1}\\right)^2}{n_1 - 1} + \\frac{\\left(\\frac{s_2^2}{n_2}\\right)^2}{n_2 - 1}}\n",
        "$$\n",
        "\n",
        "In this case, the test statistic is \\($ t = 1.166 $ \\), the degrees of freedom is approximately \\($ df = 17.894 $ \\), and the p-value is \\($ p = 0.259 $ \\).\n",
        "\n",
        "\n",
        "Since the p-value ($ p = 0.259 $) is greater than the significance level (\\($ \\alpha = 0.05 $ \\)), we fail to reject the null hypothesis.\n",
        "\n",
        "\n",
        "Based on the results of the hypothesis test, we do not have sufficient evidence to conclude that there is a statistically significant difference in the mean proficiency test scores between intensive tutoring and paced tutoring groups at the \\($ \\alpha = 0.05 $ \\) significance level.\n"
      ],
      "metadata": {
        "id": "ukqaxhpf52MB"
      }
    },
    {
      "cell_type": "markdown",
      "source": [
        "# Question 5\n"
      ],
      "metadata": {
        "id": "P140fk3wLWSI"
      }
    },
    {
      "cell_type": "markdown",
      "source": [
        "## *Note*:\n",
        "To solve this question, I have used the solution suggested by chatGPT, despite the fact that the following formula was not mentioned directly in the slides."
      ],
      "metadata": {
        "id": "K2XYPTd8QlWR"
      }
    },
    {
      "cell_type": "markdown",
      "source": [
        "1. **Effect Size** ($d$): $0.5$ surveys per enrollee.\n",
        "2. **Significance Level** ($\\alpha$): $0.05$.\n",
        "3. **Power Level** ($1 - \\beta$): $80\\%$, or $0.80$.\n",
        "4. **Standard Deviation** ($\\sigma$): $2.2$ surveys.\n",
        "\n",
        "The formula for the required sample size in each group is:\n",
        "\n",
        "$$\n",
        "n = \\left( \\frac{(Z_{\\alpha/2} + Z_{\\beta}) \\cdot \\sigma}{d} \\right)^2\n",
        "$$\n",
        "\n",
        "Where:\n",
        "- $Z_{\\alpha/2}$ is the critical value for a two-tailed test at the significance level $\\alpha$, which is $1.96$.\n",
        "- $Z_{\\beta}$ is the critical value for the desired power level, which is $0.84$.\n",
        "\n",
        "$$\n",
        "=>\n",
        "n = \\left( \\frac{(1.96 + 0.84) \\cdot 2.2}{0.5} \\right)^2\n",
        "=>\n",
        "n = \\left( \\frac{2.8 \\cdot 2.2}{0.5} \\right)^2\n",
        "=>\n",
        "n = \\left( \\frac{6.16}{0.5} \\right)^2\n",
        "=>\n",
        "n = (12.32)^2\n",
        "=>\n",
        "n \\approx 152\n",
        "$$\n",
        "\n"
      ],
      "metadata": {
        "id": "5J-ZeIqf_JIS"
      }
    },
    {
      "cell_type": "markdown",
      "source": [
        "# Question 6\n"
      ],
      "metadata": {
        "id": "4w8QprlX_By-"
      }
    },
    {
      "cell_type": "markdown",
      "source": [
        "| Before | After |\n",
        "|--------|-------|\n",
        "| $25$   | $27$  |\n",
        "| $25$   | $29$  |\n",
        "| $27$   | $37$  |\n",
        "| $44$   | $56$  |\n",
        "| $30$   | $46$  |\n",
        "| $67$   | $82$  |\n",
        "| $53$   | $57$  |\n",
        "| $52$   | $61$  |\n",
        "| $53$   | $80$  |\n",
        "| $60$   | $59$  |\n",
        "| $28$   | $43$  |"
      ],
      "metadata": {
        "id": "dETNtXTARpOf"
      }
    },
    {
      "cell_type": "markdown",
      "source": [
        "- Null Hypothesis (\\( $H_0$ \\)): The mean difference in platelet aggregation before and after smoking is zero (\\( $\\mu_d = 0$ \\)).\n",
        "- Alternative Hypothesis (\\( $H_1$ \\)): The mean difference in platelet aggregation before and after smoking is not zero (\\( $\\mu_d \\neq 0$ \\))."
      ],
      "metadata": {
        "id": "r4kwTK4TRlwK"
      }
    },
    {
      "cell_type": "markdown",
      "source": [
        "- Differences between \"After\" and \"Before\":\n",
        "  $$\n",
        "  \\text{differences} = [2, 4, 10, 12, 16, 15, 4, 9, 27, -1, 15]\n",
        "  $$\n",
        "- Mean of the differences (\\( $\\bar{d}$ \\)): $10.27$\n",
        "- Standard deviation of the differences (\\( $s_d$ \\)): $7.98$\n",
        "- Test statistic (\\( $t$ \\)):\n",
        "  $$\n",
        "  t = \\frac{\\bar{d}}{s_d / \\sqrt{n}} = \\frac{10.27}{7.98 / \\sqrt{11}} = 4.27\n",
        "  $$\n",
        "- Degrees of freedom (\\( $df$ \\)): $10$\n",
        "- P-value: $0.0016$\n"
      ],
      "metadata": {
        "id": "21lZaEP1RujK"
      }
    },
    {
      "cell_type": "markdown",
      "source": [
        "Since the p-value ($0.0016$) is less than the significance level (\\( $\\alpha = 0.05$ \\)), we reject the null hypothesis. There is a statistically significant difference in the mean platelet aggregation before and after smoking a cigarette at the \\( $\\alpha = 0.05$ \\) significance level.\n"
      ],
      "metadata": {
        "id": "TeOqYgB2Cc8M"
      }
    },
    {
      "cell_type": "markdown",
      "source": [
        "# Question 7\n"
      ],
      "metadata": {
        "id": "SQDGa3ek_B3G"
      }
    },
    {
      "cell_type": "markdown",
      "source": [
        "a):\n",
        "\n",
        "- Null Hypothesis ($H_0$): The mean heights of men from the US, UK, and India are equal ($\\mu_{\\text{US}} = \\mu_{\\text{UK}} = \\mu_{\\text{India}} $).\n",
        "- Alternative Hypothesis ($H_1$): At least one of the mean heights of men from the US, UK, and India is different.\n"
      ],
      "metadata": {
        "id": "_CdsKIS0R_6U"
      }
    },
    {
      "cell_type": "markdown",
      "source": [
        "b)\n",
        "\n",
        "1. **Degrees of Freedom (DF):**\n",
        "   - Between Groups: $2$ (since $k - 1 = 3 - 1$)\n",
        "   - Within Groups (Error): $21$ (since $N - k = 24 - 3$)\n",
        "   - Total: $23$ (since $N - 1 = 24 - 1$)\n",
        "\n",
        "2. **Sum of Squares:**\n",
        "   - Between Groups (SSB): $1.75$\n",
        "   - Within Groups (SSE): $684.75$\n",
        "   - Total (SST): $686.5$\n",
        "\n",
        "3. **Mean Squares:**\n",
        "   - Between Groups (MSB):\n",
        "     $$\n",
        "     \\frac{\\text{SSB}}{\\text{DF}_{\\text{between}}} = \\frac{1.75}{2} = 0.875\n",
        "     $$\n",
        "   - Within Groups (MSE):\n",
        "     $$\n",
        "     \\frac{\\text{SSE}}{\\text{DF}_{\\text{within}}} = \\frac{684.75}{21} = 32.6071\n",
        "     $$\n",
        "\n",
        "4. **F-value:**\n",
        "   $$\n",
        "   F = \\frac{\\text{MSB}}{\\text{MSE}} = \\frac{0.875}{32.6071} = 0.0268\n",
        "   $$\n",
        "\n",
        "| Source   | DF | Sum SQ  | Mean SQ | F-value   |\n",
        "|----------|----|---------|---------|-----------|\n",
        "| Group    | $2$ | $1.75$  | $0.875$ | $0.0268$  |\n",
        "| Error    | $21$ | $684.75$ | $32.6071$ |         |\n",
        "| Total    | $23$ | $686.5$ |         |         |\n"
      ],
      "metadata": {
        "id": "nPtoCNkoSL2J"
      }
    },
    {
      "cell_type": "markdown",
      "source": [
        "The p-value for the F-test is approximately $0.9736$. Since the p-value is greater than the significance level $\\alpha = 0.05$, we fail to reject the null hypothesis.\n",
        "\n",
        "So, There is no statistically significant difference in the mean heights of men from the US, UK, and India at the $\\alpha = 0.05$ significance level.\n"
      ],
      "metadata": {
        "id": "cCDM9xrmDgU_"
      }
    },
    {
      "cell_type": "markdown",
      "source": [
        "# Question 8\n"
      ],
      "metadata": {
        "id": "gES2roPQ_F07"
      }
    },
    {
      "cell_type": "code",
      "source": [
        "# Install necessary packages if not already installed\n",
        "if (!require(ggplot2)) install.packages('ggplot2', dependencies=TRUE)\n",
        "if (!require(dplyr)) install.packages('dplyr', dependencies=TRUE)\n",
        "if (!require(car)) install.packages('car', dependencies=TRUE)\n",
        "\n",
        "# Load the necessary libraries\n",
        "library(ggplot2)\n",
        "library(dplyr)\n",
        "library(car)\n",
        "\n",
        "# Load the dataset\n",
        "diet_data <- read.csv('diet.csv')\n",
        "diet_data"
      ],
      "metadata": {
        "colab": {
          "base_uri": "https://localhost:8080/",
          "height": 1000
        },
        "id": "V3Tbr5ePGV04",
        "outputId": "c15b801d-fb26-41b0-f85c-9d48395e271d"
      },
      "execution_count": null,
      "outputs": [
        {
          "output_type": "display_data",
          "data": {
            "text/html": [
              "<table class=\"dataframe\">\n",
              "<caption>A data.frame: 76 × 7</caption>\n",
              "<thead>\n",
              "\t<tr><th scope=col>id</th><th scope=col>gender</th><th scope=col>age</th><th scope=col>height</th><th scope=col>diet.type</th><th scope=col>initial.weight</th><th scope=col>final.weight</th></tr>\n",
              "\t<tr><th scope=col>&lt;int&gt;</th><th scope=col>&lt;chr&gt;</th><th scope=col>&lt;int&gt;</th><th scope=col>&lt;int&gt;</th><th scope=col>&lt;chr&gt;</th><th scope=col>&lt;int&gt;</th><th scope=col>&lt;dbl&gt;</th></tr>\n",
              "</thead>\n",
              "<tbody>\n",
              "\t<tr><td> 1</td><td>Female</td><td>22</td><td>159</td><td>A</td><td>58</td><td>54.2</td></tr>\n",
              "\t<tr><td> 2</td><td>Female</td><td>46</td><td>192</td><td>A</td><td>60</td><td>54.0</td></tr>\n",
              "\t<tr><td> 3</td><td>Female</td><td>55</td><td>170</td><td>A</td><td>64</td><td>63.3</td></tr>\n",
              "\t<tr><td> 4</td><td>Female</td><td>33</td><td>171</td><td>A</td><td>64</td><td>61.1</td></tr>\n",
              "\t<tr><td> 5</td><td>Female</td><td>50</td><td>170</td><td>A</td><td>65</td><td>62.2</td></tr>\n",
              "\t<tr><td> 6</td><td>Female</td><td>50</td><td>201</td><td>A</td><td>66</td><td>64.0</td></tr>\n",
              "\t<tr><td> 7</td><td>Female</td><td>37</td><td>174</td><td>A</td><td>67</td><td>65.0</td></tr>\n",
              "\t<tr><td> 8</td><td>Female</td><td>28</td><td>176</td><td>A</td><td>69</td><td>60.5</td></tr>\n",
              "\t<tr><td> 9</td><td>Female</td><td>28</td><td>165</td><td>A</td><td>70</td><td>68.1</td></tr>\n",
              "\t<tr><td>10</td><td>Female</td><td>45</td><td>165</td><td>A</td><td>70</td><td>66.9</td></tr>\n",
              "\t<tr><td>11</td><td>Female</td><td>60</td><td>173</td><td>A</td><td>72</td><td>70.5</td></tr>\n",
              "\t<tr><td>12</td><td>Female</td><td>48</td><td>156</td><td>A</td><td>72</td><td>69.0</td></tr>\n",
              "\t<tr><td>13</td><td>Female</td><td>41</td><td>163</td><td>A</td><td>72</td><td>68.4</td></tr>\n",
              "\t<tr><td>14</td><td>Female</td><td>37</td><td>167</td><td>A</td><td>82</td><td>81.1</td></tr>\n",
              "\t<tr><td>27</td><td>Female</td><td>44</td><td>174</td><td>B</td><td>58</td><td>60.1</td></tr>\n",
              "\t<tr><td>28</td><td>Female</td><td>37</td><td>172</td><td>B</td><td>58</td><td>56.0</td></tr>\n",
              "\t<tr><td>29</td><td>Female</td><td>41</td><td>165</td><td>B</td><td>59</td><td>57.3</td></tr>\n",
              "\t<tr><td>30</td><td>Female</td><td>43</td><td>171</td><td>B</td><td>61</td><td>56.7</td></tr>\n",
              "\t<tr><td>31</td><td>Female</td><td>20</td><td>169</td><td>B</td><td>62</td><td>55.0</td></tr>\n",
              "\t<tr><td>32</td><td>Female</td><td>51</td><td>174</td><td>B</td><td>63</td><td>62.4</td></tr>\n",
              "\t<tr><td>33</td><td>Female</td><td>31</td><td>163</td><td>B</td><td>63</td><td>60.3</td></tr>\n",
              "\t<tr><td>34</td><td>Female</td><td>54</td><td>173</td><td>B</td><td>63</td><td>59.4</td></tr>\n",
              "\t<tr><td>35</td><td>Female</td><td>50</td><td>166</td><td>B</td><td>65</td><td>62.0</td></tr>\n",
              "\t<tr><td>36</td><td>Female</td><td>48</td><td>163</td><td>B</td><td>66</td><td>64.0</td></tr>\n",
              "\t<tr><td>37</td><td>Female</td><td>16</td><td>165</td><td>B</td><td>68</td><td>63.8</td></tr>\n",
              "\t<tr><td>38</td><td>Female</td><td>37</td><td>167</td><td>B</td><td>68</td><td>63.3</td></tr>\n",
              "\t<tr><td>39</td><td>Female</td><td>30</td><td>161</td><td>B</td><td>76</td><td>72.7</td></tr>\n",
              "\t<tr><td>40</td><td>Female</td><td>29</td><td>169</td><td>B</td><td>77</td><td>77.5</td></tr>\n",
              "\t<tr><td>52</td><td>Female</td><td>51</td><td>165</td><td>C</td><td>60</td><td>53.0</td></tr>\n",
              "\t<tr><td>53</td><td>Female</td><td>35</td><td>169</td><td>C</td><td>62</td><td>56.4</td></tr>\n",
              "\t<tr><td>⋮</td><td>⋮</td><td>⋮</td><td>⋮</td><td>⋮</td><td>⋮</td><td>⋮</td></tr>\n",
              "\t<tr><td>18</td><td>Male</td><td>50</td><td>160</td><td>A</td><td>78</td><td>73.9</td></tr>\n",
              "\t<tr><td>19</td><td>Male</td><td>43</td><td>162</td><td>A</td><td>80</td><td>71.0</td></tr>\n",
              "\t<tr><td>20</td><td>Male</td><td>25</td><td>165</td><td>A</td><td>80</td><td>77.6</td></tr>\n",
              "\t<tr><td>21</td><td>Male</td><td>52</td><td>177</td><td>A</td><td>83</td><td>79.1</td></tr>\n",
              "\t<tr><td>22</td><td>Male</td><td>42</td><td>166</td><td>A</td><td>85</td><td>81.5</td></tr>\n",
              "\t<tr><td>23</td><td>Male</td><td>39</td><td>166</td><td>A</td><td>87</td><td>81.9</td></tr>\n",
              "\t<tr><td>24</td><td>Male</td><td>40</td><td>190</td><td>A</td><td>88</td><td>84.5</td></tr>\n",
              "\t<tr><td>41</td><td>Male</td><td>51</td><td>191</td><td>B</td><td>71</td><td>66.8</td></tr>\n",
              "\t<tr><td>42</td><td>Male</td><td>38</td><td>199</td><td>B</td><td>75</td><td>72.6</td></tr>\n",
              "\t<tr><td>43</td><td>Male</td><td>54</td><td>196</td><td>B</td><td>75</td><td>69.2</td></tr>\n",
              "\t<tr><td>44</td><td>Male</td><td>33</td><td>190</td><td>B</td><td>76</td><td>72.5</td></tr>\n",
              "\t<tr><td>45</td><td>Male</td><td>45</td><td>160</td><td>B</td><td>78</td><td>72.7</td></tr>\n",
              "\t<tr><td>46</td><td>Male</td><td>37</td><td>194</td><td>B</td><td>78</td><td>76.3</td></tr>\n",
              "\t<tr><td>47</td><td>Male</td><td>44</td><td>163</td><td>B</td><td>79</td><td>73.6</td></tr>\n",
              "\t<tr><td>48</td><td>Male</td><td>40</td><td>171</td><td>B</td><td>79</td><td>72.9</td></tr>\n",
              "\t<tr><td>49</td><td>Male</td><td>37</td><td>198</td><td>B</td><td>79</td><td>71.1</td></tr>\n",
              "\t<tr><td>50</td><td>Male</td><td>39</td><td>180</td><td>B</td><td>80</td><td>81.4</td></tr>\n",
              "\t<tr><td>51</td><td>Male</td><td>31</td><td>182</td><td>B</td><td>80</td><td>75.7</td></tr>\n",
              "\t<tr><td>67</td><td>Male</td><td>36</td><td>155</td><td>C</td><td>71</td><td>68.5</td></tr>\n",
              "\t<tr><td>68</td><td>Male</td><td>47</td><td>179</td><td>C</td><td>73</td><td>72.1</td></tr>\n",
              "\t<tr><td>69</td><td>Male</td><td>29</td><td>166</td><td>C</td><td>76</td><td>72.5</td></tr>\n",
              "\t<tr><td>70</td><td>Male</td><td>37</td><td>173</td><td>C</td><td>78</td><td>77.5</td></tr>\n",
              "\t<tr><td>71</td><td>Male</td><td>31</td><td>177</td><td>C</td><td>78</td><td>75.2</td></tr>\n",
              "\t<tr><td>72</td><td>Male</td><td>26</td><td>179</td><td>C</td><td>78</td><td>69.4</td></tr>\n",
              "\t<tr><td>73</td><td>Male</td><td>40</td><td>179</td><td>C</td><td>79</td><td>74.5</td></tr>\n",
              "\t<tr><td>74</td><td>Male</td><td>35</td><td>183</td><td>C</td><td>83</td><td>80.2</td></tr>\n",
              "\t<tr><td>75</td><td>Male</td><td>49</td><td>177</td><td>C</td><td>84</td><td>79.9</td></tr>\n",
              "\t<tr><td>76</td><td>Male</td><td>28</td><td>164</td><td>C</td><td>85</td><td>79.7</td></tr>\n",
              "\t<tr><td>77</td><td>Male</td><td>40</td><td>167</td><td>C</td><td>87</td><td>77.8</td></tr>\n",
              "\t<tr><td>78</td><td>Male</td><td>51</td><td>175</td><td>C</td><td>88</td><td>81.9</td></tr>\n",
              "</tbody>\n",
              "</table>\n"
            ],
            "text/markdown": "\nA data.frame: 76 × 7\n\n| id &lt;int&gt; | gender &lt;chr&gt; | age &lt;int&gt; | height &lt;int&gt; | diet.type &lt;chr&gt; | initial.weight &lt;int&gt; | final.weight &lt;dbl&gt; |\n|---|---|---|---|---|---|---|\n|  1 | Female | 22 | 159 | A | 58 | 54.2 |\n|  2 | Female | 46 | 192 | A | 60 | 54.0 |\n|  3 | Female | 55 | 170 | A | 64 | 63.3 |\n|  4 | Female | 33 | 171 | A | 64 | 61.1 |\n|  5 | Female | 50 | 170 | A | 65 | 62.2 |\n|  6 | Female | 50 | 201 | A | 66 | 64.0 |\n|  7 | Female | 37 | 174 | A | 67 | 65.0 |\n|  8 | Female | 28 | 176 | A | 69 | 60.5 |\n|  9 | Female | 28 | 165 | A | 70 | 68.1 |\n| 10 | Female | 45 | 165 | A | 70 | 66.9 |\n| 11 | Female | 60 | 173 | A | 72 | 70.5 |\n| 12 | Female | 48 | 156 | A | 72 | 69.0 |\n| 13 | Female | 41 | 163 | A | 72 | 68.4 |\n| 14 | Female | 37 | 167 | A | 82 | 81.1 |\n| 27 | Female | 44 | 174 | B | 58 | 60.1 |\n| 28 | Female | 37 | 172 | B | 58 | 56.0 |\n| 29 | Female | 41 | 165 | B | 59 | 57.3 |\n| 30 | Female | 43 | 171 | B | 61 | 56.7 |\n| 31 | Female | 20 | 169 | B | 62 | 55.0 |\n| 32 | Female | 51 | 174 | B | 63 | 62.4 |\n| 33 | Female | 31 | 163 | B | 63 | 60.3 |\n| 34 | Female | 54 | 173 | B | 63 | 59.4 |\n| 35 | Female | 50 | 166 | B | 65 | 62.0 |\n| 36 | Female | 48 | 163 | B | 66 | 64.0 |\n| 37 | Female | 16 | 165 | B | 68 | 63.8 |\n| 38 | Female | 37 | 167 | B | 68 | 63.3 |\n| 39 | Female | 30 | 161 | B | 76 | 72.7 |\n| 40 | Female | 29 | 169 | B | 77 | 77.5 |\n| 52 | Female | 51 | 165 | C | 60 | 53.0 |\n| 53 | Female | 35 | 169 | C | 62 | 56.4 |\n| ⋮ | ⋮ | ⋮ | ⋮ | ⋮ | ⋮ | ⋮ |\n| 18 | Male | 50 | 160 | A | 78 | 73.9 |\n| 19 | Male | 43 | 162 | A | 80 | 71.0 |\n| 20 | Male | 25 | 165 | A | 80 | 77.6 |\n| 21 | Male | 52 | 177 | A | 83 | 79.1 |\n| 22 | Male | 42 | 166 | A | 85 | 81.5 |\n| 23 | Male | 39 | 166 | A | 87 | 81.9 |\n| 24 | Male | 40 | 190 | A | 88 | 84.5 |\n| 41 | Male | 51 | 191 | B | 71 | 66.8 |\n| 42 | Male | 38 | 199 | B | 75 | 72.6 |\n| 43 | Male | 54 | 196 | B | 75 | 69.2 |\n| 44 | Male | 33 | 190 | B | 76 | 72.5 |\n| 45 | Male | 45 | 160 | B | 78 | 72.7 |\n| 46 | Male | 37 | 194 | B | 78 | 76.3 |\n| 47 | Male | 44 | 163 | B | 79 | 73.6 |\n| 48 | Male | 40 | 171 | B | 79 | 72.9 |\n| 49 | Male | 37 | 198 | B | 79 | 71.1 |\n| 50 | Male | 39 | 180 | B | 80 | 81.4 |\n| 51 | Male | 31 | 182 | B | 80 | 75.7 |\n| 67 | Male | 36 | 155 | C | 71 | 68.5 |\n| 68 | Male | 47 | 179 | C | 73 | 72.1 |\n| 69 | Male | 29 | 166 | C | 76 | 72.5 |\n| 70 | Male | 37 | 173 | C | 78 | 77.5 |\n| 71 | Male | 31 | 177 | C | 78 | 75.2 |\n| 72 | Male | 26 | 179 | C | 78 | 69.4 |\n| 73 | Male | 40 | 179 | C | 79 | 74.5 |\n| 74 | Male | 35 | 183 | C | 83 | 80.2 |\n| 75 | Male | 49 | 177 | C | 84 | 79.9 |\n| 76 | Male | 28 | 164 | C | 85 | 79.7 |\n| 77 | Male | 40 | 167 | C | 87 | 77.8 |\n| 78 | Male | 51 | 175 | C | 88 | 81.9 |\n\n",
            "text/latex": "A data.frame: 76 × 7\n\\begin{tabular}{lllllll}\n id & gender & age & height & diet.type & initial.weight & final.weight\\\\\n <int> & <chr> & <int> & <int> & <chr> & <int> & <dbl>\\\\\n\\hline\n\t  1 & Female & 22 & 159 & A & 58 & 54.2\\\\\n\t  2 & Female & 46 & 192 & A & 60 & 54.0\\\\\n\t  3 & Female & 55 & 170 & A & 64 & 63.3\\\\\n\t  4 & Female & 33 & 171 & A & 64 & 61.1\\\\\n\t  5 & Female & 50 & 170 & A & 65 & 62.2\\\\\n\t  6 & Female & 50 & 201 & A & 66 & 64.0\\\\\n\t  7 & Female & 37 & 174 & A & 67 & 65.0\\\\\n\t  8 & Female & 28 & 176 & A & 69 & 60.5\\\\\n\t  9 & Female & 28 & 165 & A & 70 & 68.1\\\\\n\t 10 & Female & 45 & 165 & A & 70 & 66.9\\\\\n\t 11 & Female & 60 & 173 & A & 72 & 70.5\\\\\n\t 12 & Female & 48 & 156 & A & 72 & 69.0\\\\\n\t 13 & Female & 41 & 163 & A & 72 & 68.4\\\\\n\t 14 & Female & 37 & 167 & A & 82 & 81.1\\\\\n\t 27 & Female & 44 & 174 & B & 58 & 60.1\\\\\n\t 28 & Female & 37 & 172 & B & 58 & 56.0\\\\\n\t 29 & Female & 41 & 165 & B & 59 & 57.3\\\\\n\t 30 & Female & 43 & 171 & B & 61 & 56.7\\\\\n\t 31 & Female & 20 & 169 & B & 62 & 55.0\\\\\n\t 32 & Female & 51 & 174 & B & 63 & 62.4\\\\\n\t 33 & Female & 31 & 163 & B & 63 & 60.3\\\\\n\t 34 & Female & 54 & 173 & B & 63 & 59.4\\\\\n\t 35 & Female & 50 & 166 & B & 65 & 62.0\\\\\n\t 36 & Female & 48 & 163 & B & 66 & 64.0\\\\\n\t 37 & Female & 16 & 165 & B & 68 & 63.8\\\\\n\t 38 & Female & 37 & 167 & B & 68 & 63.3\\\\\n\t 39 & Female & 30 & 161 & B & 76 & 72.7\\\\\n\t 40 & Female & 29 & 169 & B & 77 & 77.5\\\\\n\t 52 & Female & 51 & 165 & C & 60 & 53.0\\\\\n\t 53 & Female & 35 & 169 & C & 62 & 56.4\\\\\n\t ⋮ & ⋮ & ⋮ & ⋮ & ⋮ & ⋮ & ⋮\\\\\n\t 18 & Male & 50 & 160 & A & 78 & 73.9\\\\\n\t 19 & Male & 43 & 162 & A & 80 & 71.0\\\\\n\t 20 & Male & 25 & 165 & A & 80 & 77.6\\\\\n\t 21 & Male & 52 & 177 & A & 83 & 79.1\\\\\n\t 22 & Male & 42 & 166 & A & 85 & 81.5\\\\\n\t 23 & Male & 39 & 166 & A & 87 & 81.9\\\\\n\t 24 & Male & 40 & 190 & A & 88 & 84.5\\\\\n\t 41 & Male & 51 & 191 & B & 71 & 66.8\\\\\n\t 42 & Male & 38 & 199 & B & 75 & 72.6\\\\\n\t 43 & Male & 54 & 196 & B & 75 & 69.2\\\\\n\t 44 & Male & 33 & 190 & B & 76 & 72.5\\\\\n\t 45 & Male & 45 & 160 & B & 78 & 72.7\\\\\n\t 46 & Male & 37 & 194 & B & 78 & 76.3\\\\\n\t 47 & Male & 44 & 163 & B & 79 & 73.6\\\\\n\t 48 & Male & 40 & 171 & B & 79 & 72.9\\\\\n\t 49 & Male & 37 & 198 & B & 79 & 71.1\\\\\n\t 50 & Male & 39 & 180 & B & 80 & 81.4\\\\\n\t 51 & Male & 31 & 182 & B & 80 & 75.7\\\\\n\t 67 & Male & 36 & 155 & C & 71 & 68.5\\\\\n\t 68 & Male & 47 & 179 & C & 73 & 72.1\\\\\n\t 69 & Male & 29 & 166 & C & 76 & 72.5\\\\\n\t 70 & Male & 37 & 173 & C & 78 & 77.5\\\\\n\t 71 & Male & 31 & 177 & C & 78 & 75.2\\\\\n\t 72 & Male & 26 & 179 & C & 78 & 69.4\\\\\n\t 73 & Male & 40 & 179 & C & 79 & 74.5\\\\\n\t 74 & Male & 35 & 183 & C & 83 & 80.2\\\\\n\t 75 & Male & 49 & 177 & C & 84 & 79.9\\\\\n\t 76 & Male & 28 & 164 & C & 85 & 79.7\\\\\n\t 77 & Male & 40 & 167 & C & 87 & 77.8\\\\\n\t 78 & Male & 51 & 175 & C & 88 & 81.9\\\\\n\\end{tabular}\n",
            "text/plain": [
              "   id gender age height diet.type initial.weight final.weight\n",
              "1   1 Female 22  159    A         58             54.2        \n",
              "2   2 Female 46  192    A         60             54.0        \n",
              "3   3 Female 55  170    A         64             63.3        \n",
              "4   4 Female 33  171    A         64             61.1        \n",
              "5   5 Female 50  170    A         65             62.2        \n",
              "6   6 Female 50  201    A         66             64.0        \n",
              "7   7 Female 37  174    A         67             65.0        \n",
              "8   8 Female 28  176    A         69             60.5        \n",
              "9   9 Female 28  165    A         70             68.1        \n",
              "10 10 Female 45  165    A         70             66.9        \n",
              "11 11 Female 60  173    A         72             70.5        \n",
              "12 12 Female 48  156    A         72             69.0        \n",
              "13 13 Female 41  163    A         72             68.4        \n",
              "14 14 Female 37  167    A         82             81.1        \n",
              "15 27 Female 44  174    B         58             60.1        \n",
              "16 28 Female 37  172    B         58             56.0        \n",
              "17 29 Female 41  165    B         59             57.3        \n",
              "18 30 Female 43  171    B         61             56.7        \n",
              "19 31 Female 20  169    B         62             55.0        \n",
              "20 32 Female 51  174    B         63             62.4        \n",
              "21 33 Female 31  163    B         63             60.3        \n",
              "22 34 Female 54  173    B         63             59.4        \n",
              "23 35 Female 50  166    B         65             62.0        \n",
              "24 36 Female 48  163    B         66             64.0        \n",
              "25 37 Female 16  165    B         68             63.8        \n",
              "26 38 Female 37  167    B         68             63.3        \n",
              "27 39 Female 30  161    B         76             72.7        \n",
              "28 40 Female 29  169    B         77             77.5        \n",
              "29 52 Female 51  165    C         60             53.0        \n",
              "30 53 Female 35  169    C         62             56.4        \n",
              "⋮  ⋮  ⋮      ⋮   ⋮      ⋮         ⋮              ⋮           \n",
              "47 18 Male   50  160    A         78             73.9        \n",
              "48 19 Male   43  162    A         80             71.0        \n",
              "49 20 Male   25  165    A         80             77.6        \n",
              "50 21 Male   52  177    A         83             79.1        \n",
              "51 22 Male   42  166    A         85             81.5        \n",
              "52 23 Male   39  166    A         87             81.9        \n",
              "53 24 Male   40  190    A         88             84.5        \n",
              "54 41 Male   51  191    B         71             66.8        \n",
              "55 42 Male   38  199    B         75             72.6        \n",
              "56 43 Male   54  196    B         75             69.2        \n",
              "57 44 Male   33  190    B         76             72.5        \n",
              "58 45 Male   45  160    B         78             72.7        \n",
              "59 46 Male   37  194    B         78             76.3        \n",
              "60 47 Male   44  163    B         79             73.6        \n",
              "61 48 Male   40  171    B         79             72.9        \n",
              "62 49 Male   37  198    B         79             71.1        \n",
              "63 50 Male   39  180    B         80             81.4        \n",
              "64 51 Male   31  182    B         80             75.7        \n",
              "65 67 Male   36  155    C         71             68.5        \n",
              "66 68 Male   47  179    C         73             72.1        \n",
              "67 69 Male   29  166    C         76             72.5        \n",
              "68 70 Male   37  173    C         78             77.5        \n",
              "69 71 Male   31  177    C         78             75.2        \n",
              "70 72 Male   26  179    C         78             69.4        \n",
              "71 73 Male   40  179    C         79             74.5        \n",
              "72 74 Male   35  183    C         83             80.2        \n",
              "73 75 Male   49  177    C         84             79.9        \n",
              "74 76 Male   28  164    C         85             79.7        \n",
              "75 77 Male   40  167    C         87             77.8        \n",
              "76 78 Male   51  175    C         88             81.9        "
            ]
          },
          "metadata": {}
        }
      ]
    },
    {
      "cell_type": "markdown",
      "source": [
        "The dataset contains information about the participants' ID, gender, age, height, diet type, initial weight, and final weight. To analyze the weight loss for each diet type, we will calculate the weight loss as the difference between initial and final weights."
      ],
      "metadata": {
        "id": "1bZsVgXLIHi8"
      }
    },
    {
      "cell_type": "markdown",
      "source": [
        "### a. Plot the Three Groups' Data Using Side-by-Side Boxplots\n"
      ],
      "metadata": {
        "id": "FP_SUEwZJdQW"
      }
    },
    {
      "cell_type": "code",
      "source": [
        "# Calculate weight loss\n",
        "diet_data$WeightLoss <- diet_data$initial.weight - diet_data$final.weight\n",
        "\n",
        "# Plot the data using side-by-side boxplots\n",
        "ggplot(diet_data, aes(x = diet.type, y = WeightLoss, fill = diet.type)) +\n",
        "  geom_boxplot() +\n",
        "  labs(title = \"Weight Loss by Diet Type\", x = \"Diet Type\", y = \"Weight Loss (kg)\") +\n",
        "  theme_minimal()\n"
      ],
      "metadata": {
        "colab": {
          "base_uri": "https://localhost:8080/",
          "height": 437
        },
        "id": "MoEAXsLAJsCA",
        "outputId": "13569f6e-454c-417e-d260-98411b990020"
      },
      "execution_count": null,
      "outputs": [
        {
          "output_type": "display_data",
          "data": {
            "text/plain": [
              "plot without title"
            ],
            "image/png": "[encoded data removed]"
          },
          "metadata": {
            "image/png": {
              "width": 420,
              "height": 420
            }
          }
        }
      ]
    },
    {
      "cell_type": "markdown",
      "source": [
        "### b. Use ANOVA to Determine Whether There is a Significant Difference in the Mean Weight Loss Between Groups"
      ],
      "metadata": {
        "id": "BM4ZLY44J9mO"
      }
    },
    {
      "cell_type": "code",
      "source": [
        "# Perform ANOVA\n",
        "anova_model <- aov(WeightLoss ~ diet.type, data = diet_data)\n",
        "anova_result <- Anova(anova_model, type = \"II\")\n",
        "\n",
        "# Display the ANOVA table\n",
        "summary(anova_model)"
      ],
      "metadata": {
        "colab": {
          "base_uri": "https://localhost:8080/",
          "height": 108
        },
        "id": "L2vHqgn_KMEJ",
        "outputId": "f756dc24-bc07-4d36-9072-6dfc5706bfe9"
      },
      "execution_count": null,
      "outputs": [
        {
          "output_type": "display_data",
          "data": {
            "text/plain": [
              "            Df Sum Sq Mean Sq F value Pr(>F)   \n",
              "diet.type    2   60.5  30.264   5.383 0.0066 **\n",
              "Residuals   73  410.4   5.622                  \n",
              "---\n",
              "Signif. codes:  0 ‘***’ 0.001 ‘**’ 0.01 ‘*’ 0.05 ‘.’ 0.1 ‘ ’ 1"
            ]
          },
          "metadata": {}
        }
      ]
    },
    {
      "cell_type": "markdown",
      "source": [
        "### c. Display and Analyze the Results\n"
      ],
      "metadata": {
        "id": "LRMcV7uJKZ91"
      }
    },
    {
      "cell_type": "markdown",
      "source": [
        "\n",
        "The ANOVA table is as follows:\n",
        "\n",
        "| Source      | sum_sq    | df  | F        | PR(>F)   |\n",
        "|-------------|-----------|-----|----------|----------|\n",
        "| C(DietType) | 60.527008 | 2   | 5.383104 | 0.006596 |\n",
        "| Residual    | 410.401807| 73  |          |          |\n",
        "\n",
        "**Analysis**:\n",
        "\n",
        "The p-value for the diet type factor is approximately $0.0066$, which is less than the significance level $alpha = 0.05$. Therefore, we reject the null hypothesis and conclude that there is a statistically significant difference in the mean weight loss between the different diet groups.\n"
      ],
      "metadata": {
        "id": "3tbPBWcrKYWq"
      }
    },
    {
      "cell_type": "markdown",
      "source": [
        "### d. Compare the Weight Loss Between Two Groups (Diet A and Diet B as an Example)\n"
      ],
      "metadata": {
        "id": "0XIlS_kEK-dm"
      }
    },
    {
      "cell_type": "markdown",
      "source": [
        "#### the Hypothesis\n"
      ],
      "metadata": {
        "id": "jGOjTYhYLTfc"
      }
    },
    {
      "cell_type": "markdown",
      "source": [
        "\n",
        "- Null Hypothesis (\\( $H_0$ \\)): The mean weight loss for Diet A is equal to the mean weight loss for Diet B (\\( $\\mu_A = \\mu_B$ \\)).\n",
        "- Alternative Hypothesis (\\( $H_1$ \\)): The mean weight loss for Diet A is not equal to the mean weight loss for Diet B (\\( $\\mu_A \\neq \\mu_B$ \\)).\n"
      ],
      "metadata": {
        "id": "JpnDVy3oLItF"
      }
    },
    {
      "cell_type": "markdown",
      "source": [
        "#### the Level of Significance of the Test and the Decision About the Hypothesis\n"
      ],
      "metadata": {
        "id": "8HqclbQfLVx8"
      }
    },
    {
      "cell_type": "code",
      "source": [
        "# Perform post-hoc test to see which diets differ\n",
        "# TukeyHSD(anova_model)\n",
        "\n",
        "# Compare weight loss between Diet A and Diet B\n",
        "diet_A <- filter(diet_data, diet.type == \"A\")$WeightLoss\n",
        "diet_B <- filter(diet_data, diet.type == \"B\")$WeightLoss\n",
        "\n",
        "t_test_result <- t.test(diet_A, diet_B)\n",
        "\n",
        "# Display t-test results\n",
        "print(t_test_result)"
      ],
      "metadata": {
        "colab": {
          "base_uri": "https://localhost:8080/",
          "height": 416
        },
        "id": "ZcR8HJ__LhYC",
        "outputId": "fc0d0b26-dcf9-4239-982b-27de156e6a33"
      },
      "execution_count": null,
      "outputs": [
        {
          "output_type": "display_data",
          "data": {
            "text/plain": [
              "  Tukey multiple comparisons of means\n",
              "    95% family-wise confidence level\n",
              "\n",
              "Fit: aov(formula = WeightLoss ~ diet.type, data = diet_data)\n",
              "\n",
              "$diet.type\n",
              "         diff        lwr      upr     p adj\n",
              "B-A -0.032000 -1.6530850 1.589085 0.9987711\n",
              "C-A  1.848148  0.2567422 3.439554 0.0188047\n",
              "C-B  1.880148  0.3056826 3.454614 0.0152020\n"
            ]
          },
          "metadata": {}
        },
        {
          "output_type": "stream",
          "name": "stdout",
          "text": [
            "\n",
            "\tWelch Two Sample t-test\n",
            "\n",
            "data:  diet_A and diet_B\n",
            "t = 0.047594, df = 46.865, p-value = 0.9622\n",
            "alternative hypothesis: true difference in means is not equal to 0\n",
            "95 percent confidence interval:\n",
            " -1.320692  1.384692\n",
            "sample estimates:\n",
            "mean of x mean of y \n",
            "    3.300     3.268 \n",
            "\n"
          ]
        }
      ]
    },
    {
      "cell_type": "markdown",
      "source": [
        "Results:\n",
        "- t-statistic: $0.048$\n",
        "- p-value: $0.962$\n",
        "\n",
        "Since the p-value ($0.962$) is much greater than the significance level ($\\alpha = 0.05$), we fail to reject the null hypothesis. This indicates that there is no statistically significant difference in the mean weight loss between Diet A and Diet B."
      ],
      "metadata": {
        "id": "ZUbU6CBdLrFg"
      }
    },
    {
      "cell_type": "markdown",
      "source": [
        "#### Estimate the Size of the Difference in the Mean Weight Loss\n"
      ],
      "metadata": {
        "id": "w6e9w2yLLw99"
      }
    },
    {
      "cell_type": "code",
      "source": [
        "# Estimate the size of the difference in the mean weight loss\n",
        "mean_diff <- mean(diet_A) - mean(diet_B)\n",
        "print(mean_diff)"
      ],
      "metadata": {
        "colab": {
          "base_uri": "https://localhost:8080/"
        },
        "id": "a2ZvSrvfL7rz",
        "outputId": "ad4bd22d-ea16-42ae-a318-25ed7c0accc0"
      },
      "execution_count": null,
      "outputs": [
        {
          "output_type": "stream",
          "name": "stdout",
          "text": [
            "[1] 0.032\n"
          ]
        }
      ]
    },
    {
      "cell_type": "markdown",
      "source": [
        "Result:\n",
        "- Mean difference: $0.032$ kg\n",
        "\n",
        "This small difference further supports the conclusion that there is no statistically significant difference between the two diets.\n"
      ],
      "metadata": {
        "id": "js8ONdQDHTTb"
      }
    }
  ]
}